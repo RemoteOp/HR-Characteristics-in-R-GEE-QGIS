{
 "cells": [
  {
   "cell_type": "markdown",
   "id": "777fb1bb-c7f0-463b-886f-90224d0fd829",
   "metadata": {},
   "source": [
    "## Resampling raster data"
   ]
  },
  {
   "cell_type": "code",
   "execution_count": 1,
   "id": "6da67c21",
   "metadata": {},
   "outputs": [],
   "source": [
    "import geopandas as gpd\n",
    "\n",
    "\n",
    "import matplotlib.pyplot as plt\n",
    "from matplotlib import colors\n",
    "\n",
    "import rasterio\n",
    "from rasterio.mask import mask\n",
    "\n",
    "import numpy as np"
   ]
  },
  {
   "cell_type": "code",
   "execution_count": 2,
   "id": "bbbd1aef-740f-495d-adff-66129fe82b60",
   "metadata": {},
   "outputs": [],
   "source": [
    "from rasterio.warp import reproject, Resampling"
   ]
  },
  {
   "cell_type": "code",
   "execution_count": 6,
   "id": "0f4edcf5-877c-4ede-8bb4-dba946c71430",
   "metadata": {},
   "outputs": [],
   "source": [
    "reprojected_file1 = 'germany_population_reprojected.tif'\n",
    "reprojected_file2 = 'germany_elevation_reprojected.tif'"
   ]
  },
  {
   "cell_type": "code",
   "execution_count": 7,
   "id": "94abc8e5-c11a-4e49-a85c-4c7c9ffc63e7",
   "metadata": {},
   "outputs": [
    {
     "name": "stdout",
     "output_type": "stream",
     "text": [
      "resolution1:  (745.7190107123781, 745.7190107123781)\n"
     ]
    }
   ],
   "source": [
    "with rasterio.open(reprojected_file1) as src1:\n",
    "    res1 = src1.res\n",
    "    print('resolution1: ', res1)"
   ]
  },
  {
   "cell_type": "code",
   "execution_count": 8,
   "id": "ee6af842-12dd-4f73-99fa-cc45b667dab6",
   "metadata": {},
   "outputs": [
    {
     "name": "stdout",
     "output_type": "stream",
     "text": [
      "resolution2:  (74.56942202189228, 74.56942202189228)\n"
     ]
    }
   ],
   "source": [
    "with rasterio.open(reprojected_file2) as src2:\n",
    "    res2 = src2.res\n",
    "    print('resolution2: ', res2)"
   ]
  },
  {
   "cell_type": "markdown",
   "id": "b4bbcc62",
   "metadata": {},
   "source": [
    "#### Resolution for the two gids doesn't match -> solving this by making sure the resolutions are the same! \n",
    "#### Method: RESAMPLING"
   ]
  },
  {
   "cell_type": "code",
   "execution_count": null,
   "id": "021de26e-1f5a-4620-bb98-944acd90ab17",
   "metadata": {},
   "outputs": [],
   "source": [
    "### File1 is the reference for resampling \n",
    "\n",
    "with rasterio.open(reprojected_file1) as ref_src:\n",
    "    target_transform = ref_src.transform\n",
    "    target_crs = ref_src.crs\n",
    "    target_width = ref_src.width\n",
    "    target_height = ref_src.height\n",
    "    target_resolution = ref_src.res\n",
    "    target_meta = ref_src.meta.copy()"
   ]
  },
  {
   "cell_type": "code",
   "execution_count": 10,
   "id": "69994026-06ec-4d90-ad7a-49c93a7e341c",
   "metadata": {},
   "outputs": [],
   "source": [
    "resmapled_file2 = 'germany_elevation_reprojected_resampled.tif'"
   ]
  },
  {
   "cell_type": "code",
   "execution_count": 14,
   "id": "2f970778-e9aa-4ced-aa8d-09174af39c9c",
   "metadata": {},
   "outputs": [],
   "source": [
    "with rasterio.open(reprojected_file2) as src:\n",
    "\n",
    "    aligned_meta = src.meta.copy()\n",
    "    aligned_meta.update({\n",
    "        'crs': target_crs,\n",
    "        'transform': target_transform,\n",
    "        'width': target_width,\n",
    "        'height': target_height,\n",
    "        'dtype': 'float64'\n",
    "    })\n",
    "\n",
    "\n",
    "    aligned_data = np.empty((target_height, target_width), dtype=np.float64)\n",
    "\n",
    "    reproject(\n",
    "        source = src.read(1),\n",
    "        destination = aligned_data,\n",
    "        src_transform=src.transform,\n",
    "        src_crs=src.crs,\n",
    "        dst_transform=target_transform,\n",
    "        dst_crs=target_crs,\n",
    "        resampling=Resampling.bilinear\n",
    "        \n",
    "    )"
   ]
  },
  {
   "cell_type": "code",
   "execution_count": 15,
   "id": "a2ee7cbe-b83f-45ff-b232-d336b792fa84",
   "metadata": {},
   "outputs": [],
   "source": [
    "with rasterio.open(resmapled_file2, 'w', **aligned_meta) as dst:\n",
    "    dst.write(aligned_data, 1)"
   ]
  },
  {
   "cell_type": "code",
   "execution_count": 16,
   "id": "7607c496-a71b-49b4-bd81-066aa5115e1c",
   "metadata": {},
   "outputs": [],
   "source": [
    "import os"
   ]
  },
  {
   "cell_type": "code",
   "execution_count": 17,
   "id": "29a677b0-19cb-4b3b-8098-265242dbf00b",
   "metadata": {},
   "outputs": [
    {
     "data": {
      "text/plain": [
       "8833350"
      ]
     },
     "execution_count": 17,
     "metadata": {},
     "output_type": "execute_result"
    }
   ],
   "source": [
    "size_file1 = os.path.getsize(reprojected_file1)\n",
    "size_file1"
   ]
  },
  {
   "cell_type": "code",
   "execution_count": 18,
   "id": "a39b0736-8979-41d3-ba16-01667e16f214",
   "metadata": {},
   "outputs": [
    {
     "data": {
      "text/plain": [
       "8833350"
      ]
     },
     "execution_count": 18,
     "metadata": {},
     "output_type": "execute_result"
    }
   ],
   "source": [
    "size_file2 = os.path.getsize(resmapled_file2)\n",
    "size_file2"
   ]
  }
 ],
 "metadata": {
  "kernelspec": {
   "display_name": "Python 3",
   "language": "python",
   "name": "python3"
  },
  "language_info": {
   "codemirror_mode": {
    "name": "ipython",
    "version": 3
   },
   "file_extension": ".py",
   "mimetype": "text/x-python",
   "name": "python",
   "nbconvert_exporter": "python",
   "pygments_lexer": "ipython3",
   "version": "3.13.7"
  }
 },
 "nbformat": 4,
 "nbformat_minor": 5
}
