{
 "cells": [
  {
   "cell_type": "markdown",
   "id": "8899ec2d",
   "metadata": {},
   "source": [
    "## Interpret Existing Real-World Raster File"
   ]
  },
  {
   "cell_type": "code",
   "execution_count": 4,
   "id": "2df9e19e",
   "metadata": {},
   "outputs": [],
   "source": [
    "import rasterio\n",
    "import numpy as np"
   ]
  },
  {
   "cell_type": "code",
   "execution_count": 1,
   "id": "d623a249",
   "metadata": {},
   "outputs": [
    {
     "name": "stdout",
     "output_type": "stream",
     "text": [
      "File exists: True\n",
      "Full path: c:\\Users\\saral\\OneDrive\\SL_Github\\GIS_Python\\Natural World tiff file\\GHS_POP_E2020_GLOBE_R2023A_4326_30ss_V1_0(1)\\GHS_POP_E2020_GLOBE_R2023A_4326_30ss_V1_0.tif\n"
     ]
    }
   ],
   "source": [
    "from pathlib import Path\n",
    "\n",
    "data_path = Path(r'c:\\Users\\saral\\OneDrive\\SL_Github\\GIS_Python\\Natural World tiff file\\GHS_POP_E2020_GLOBE_R2023A_4326_30ss_V1_0(1)\\GHS_POP_E2020_GLOBE_R2023A_4326_30ss_V1_0.tif')\n",
    "\n",
    "# Check if file exists\n",
    "print(f\"File exists: {data_path.exists()}\")\n",
    "print(f\"Full path: {data_path.absolute()}\")"
   ]
  },
  {
   "cell_type": "code",
   "execution_count": 5,
   "id": "834a8ad6",
   "metadata": {},
   "outputs": [
    {
     "data": {
      "text/plain": [
       "{'driver': 'GTiff',\n",
       " 'dtype': 'float64',\n",
       " 'nodata': None,\n",
       " 'width': 43202,\n",
       " 'height': 21384,\n",
       " 'count': 1,\n",
       " 'crs': CRS.from_wkt('GEOGCS[\"WGS 84\",DATUM[\"WGS_1984\",SPHEROID[\"WGS 84\",6378137,298.257223563,AUTHORITY[\"EPSG\",\"7030\"]],AUTHORITY[\"EPSG\",\"6326\"]],PRIMEM[\"Greenwich\",0,AUTHORITY[\"EPSG\",\"8901\"]],UNIT[\"degree\",0.0174532925199433,AUTHORITY[\"EPSG\",\"9122\"]],AXIS[\"Latitude\",NORTH],AXIS[\"Longitude\",EAST],AUTHORITY[\"EPSG\",\"4326\"]]'),\n",
       " 'transform': Affine(0.00833333330032682, 0.0, -180.00791593130032,\n",
       "        0.0, -0.008333333299795073, 89.0995831776456)}"
      ]
     },
     "execution_count": 5,
     "metadata": {},
     "output_type": "execute_result"
    }
   ],
   "source": [
    "from pathlib import Path\n",
    "\n",
    "# Full path to the TIFF file\n",
    "data_path = Path(r'c:\\Users\\saral\\OneDrive\\SL_Github\\GIS_Python\\Natural World tiff file\\GHS_POP_E2020_GLOBE_R2023A_4326_30ss_V1_0(1)\\GHS_POP_E2020_GLOBE_R2023A_4326_30ss_V1_0.tif')\n",
    "real_world_tif = str(data_path)\n",
    "\n",
    "# Read the raster file\n",
    "with rasterio.open(real_world_tif) as src:\n",
    "    raster_data = src.read(1)  # Changed variable name to avoid overwriting\n",
    "    out_meta = src.meta.copy()\n",
    "\n",
    "    bounds = src.bounds\n",
    "    resolution = src.res\n",
    "    mean_val = raster_data.mean()\n",
    "    min_val = raster_data.min()\n",
    "    max_val = raster_data.max()\n",
    "\n",
    "out_meta"
   ]
  },
  {
   "cell_type": "code",
   "execution_count": 6,
   "id": "aad98758",
   "metadata": {},
   "outputs": [
    {
     "data": {
      "text/plain": [
       "BoundingBox(left=-180.00791593130032, bottom=-89.10041610517223, right=180.008749309419, top=89.0995831776456)"
      ]
     },
     "execution_count": 6,
     "metadata": {},
     "output_type": "execute_result"
    }
   ],
   "source": [
    "bounds"
   ]
  },
  {
   "cell_type": "code",
   "execution_count": 7,
   "id": "8b367907",
   "metadata": {},
   "outputs": [
    {
     "data": {
      "text/plain": [
       "(0.00833333330032682, 0.008333333299795073)"
      ]
     },
     "execution_count": 7,
     "metadata": {},
     "output_type": "execute_result"
    }
   ],
   "source": [
    "resolution"
   ]
  },
  {
   "cell_type": "code",
   "execution_count": 8,
   "id": "7ba4f1d7",
   "metadata": {},
   "outputs": [
    {
     "data": {
      "text/plain": [
       "(np.float64(8.487426949469265),\n",
       " np.float64(0.0),\n",
       " np.float64(277608.74043127534))"
      ]
     },
     "execution_count": 8,
     "metadata": {},
     "output_type": "execute_result"
    }
   ],
   "source": [
    "mean_val, min_val, max_val"
   ]
  }
 ],
 "metadata": {
  "kernelspec": {
   "display_name": "Python 3",
   "language": "python",
   "name": "python3"
  },
  "language_info": {
   "codemirror_mode": {
    "name": "ipython",
    "version": 3
   },
   "file_extension": ".py",
   "mimetype": "text/x-python",
   "name": "python",
   "nbconvert_exporter": "python",
   "pygments_lexer": "ipython3",
   "version": "3.13.7"
  }
 },
 "nbformat": 4,
 "nbformat_minor": 5
}
