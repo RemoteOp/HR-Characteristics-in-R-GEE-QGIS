{
 "cells": [
  {
   "cell_type": "markdown",
   "id": "86f77edf-6330-4ff0-9700-9762e57c4d60",
   "metadata": {},
   "source": [
    "# Clip real-world raster data with vector data"
   ]
  },
  {
   "cell_type": "code",
   "execution_count": 2,
   "id": "349d5a08-6cc4-4afa-b377-b7c9b2b9790e",
   "metadata": {},
   "outputs": [],
   "source": [
    "import geopandas as gpd\n",
    "from shapely.geometry import box"
   ]
  },
  {
   "cell_type": "code",
   "execution_count": 3,
   "id": "69d97798-f9c3-4589-9004-2c1ac0661fe4",
   "metadata": {},
   "outputs": [],
   "source": [
    "import rasterio\n",
    "from rasterio.mask import mask"
   ]
  },
  {
   "cell_type": "markdown",
   "id": "4749003a-42a3-4994-b99c-e835392852bd",
   "metadata": {},
   "source": [
    "#### Defining a bounding box"
   ]
  },
  {
   "cell_type": "code",
   "execution_count": 4,
   "id": "4187c7a1-4b11-4087-8e21-8fc23201a00d",
   "metadata": {},
   "outputs": [
    {
     "data": {
      "text/html": [
       "<div>\n",
       "<style scoped>\n",
       "    .dataframe tbody tr th:only-of-type {\n",
       "        vertical-align: middle;\n",
       "    }\n",
       "\n",
       "    .dataframe tbody tr th {\n",
       "        vertical-align: top;\n",
       "    }\n",
       "\n",
       "    .dataframe thead th {\n",
       "        text-align: right;\n",
       "    }\n",
       "</style>\n",
       "<table border=\"1\" class=\"dataframe\">\n",
       "  <thead>\n",
       "    <tr style=\"text-align: right;\">\n",
       "      <th></th>\n",
       "      <th>geometry</th>\n",
       "    </tr>\n",
       "  </thead>\n",
       "  <tbody>\n",
       "    <tr>\n",
       "      <th>0</th>\n",
       "      <td>POLYGON ((40 34, 40 72, -10 72, -10 34, 40 34))</td>\n",
       "    </tr>\n",
       "  </tbody>\n",
       "</table>\n",
       "</div>"
      ],
      "text/plain": [
       "                                          geometry\n",
       "0  POLYGON ((40 34, 40 72, -10 72, -10 34, 40 34))"
      ]
     },
     "execution_count": 4,
     "metadata": {},
     "output_type": "execute_result"
    }
   ],
   "source": [
    "bbox = box(-10.0, 34.0, 40.0, 72.0)\n",
    "gdf = gpd.GeoDataFrame({'geometry' : bbox}, index = [0], crs = 'EPSG:4326')\n",
    "gdf"
   ]
  },
  {
   "cell_type": "code",
   "execution_count": 7,
   "id": "e16f77df",
   "metadata": {},
   "outputs": [],
   "source": [
    "import matplotlib.pyplot as plt"
   ]
  },
  {
   "cell_type": "code",
   "execution_count": 8,
   "id": "5a3f938c-ff0a-4b18-83df-7eec5285ad99",
   "metadata": {},
   "outputs": [
    {
     "data": {
      "text/plain": [
       "<Axes: >"
      ]
     },
     "execution_count": 8,
     "metadata": {},
     "output_type": "execute_result"
    },
    {
     "data": {
      "image/png": "[encoded data removed]",
      "text/plain": [
       "<Figure size 640x480 with 1 Axes>"
      ]
     },
     "metadata": {},
     "output_type": "display_data"
    }
   ],
   "source": [
    "gdf.plot()"
   ]
  },
  {
   "cell_type": "code",
   "execution_count": 9,
   "id": "55f388cb-fec1-4c3d-9aa2-158ff286c5fb",
   "metadata": {},
   "outputs": [],
   "source": [
    "gdf.to_file('bbox.geojson', driver = 'GeoJSON')"
   ]
  },
  {
   "cell_type": "markdown",
   "id": "9c07930b-c9dd-488b-b085-542d1d0b98d0",
   "metadata": {},
   "source": [
    "#### Clip the raster"
   ]
  },
  {
   "cell_type": "code",
   "execution_count": 14,
   "id": "aedcd51c-f005-4315-8bc7-66721c525f4c",
   "metadata": {},
   "outputs": [],
   "source": [
    "raster_file = r'C:\\Users\\saral\\OneDrive\\SL_Github\\GIS_Python\\Natural World tiff file\\GHS_POP_E2020_GLOBE_R2023A_4326_30ss_V1_0(1)\\GHS_POP_E2020_GLOBE_R2023A_4326_30ss_V1_0.tif'"
   ]
  },
  {
   "cell_type": "code",
   "execution_count": 15,
   "id": "103b3ec0",
   "metadata": {},
   "outputs": [
    {
     "name": "stdout",
     "output_type": "stream",
     "text": [
      "EPSG:4326\n",
      "BoundingBox(left=-180.00791593130032, bottom=-89.10041610517223, right=180.008749309419, top=89.0995831776456)\n"
     ]
    }
   ],
   "source": [
    "with rasterio.open(raster_file) as src:\n",
    "    print(src.crs)\n",
    "    print(src.bounds)"
   ]
  },
  {
   "cell_type": "code",
   "execution_count": 16,
   "id": "8221d988-50b3-44b7-a3df-9d0ee7306e92",
   "metadata": {},
   "outputs": [],
   "source": [
    "with rasterio.open(raster_file) as src:\n",
    "\n",
    "    out_image, out_transform = mask(src, gdf.geometry, crop = True)\n",
    "\n",
    "    out_meta = src.meta.copy()\n",
    "    out_meta.update({\n",
    "        'driver' : 'GTiff',\n",
    "        'height' : out_image.shape[1],\n",
    "        'width'  : out_image.shape[2],\n",
    "        'transform' : out_transform\n",
    "    })"
   ]
  },
  {
   "cell_type": "code",
   "execution_count": 17,
   "id": "f5fa909e-a7ac-4e9f-b003-ddfef54c1d37",
   "metadata": {},
   "outputs": [
    {
     "data": {
      "text/plain": [
       "{'driver': 'GTiff',\n",
       " 'dtype': 'float64',\n",
       " 'nodata': None,\n",
       " 'width': 6001,\n",
       " 'height': 4561,\n",
       " 'count': 1,\n",
       " 'crs': CRS.from_wkt('GEOGCS[\"WGS 84\",DATUM[\"WGS_1984\",SPHEROID[\"WGS 84\",6378137,298.257223563,AUTHORITY[\"EPSG\",\"7030\"]],AUTHORITY[\"EPSG\",\"6326\"]],PRIMEM[\"Greenwich\",0,AUTHORITY[\"EPSG\",\"8901\"]],UNIT[\"degree\",0.0174532925199433,AUTHORITY[\"EPSG\",\"9122\"]],AXIS[\"Latitude\",NORTH],AXIS[\"Longitude\",EAST],AUTHORITY[\"EPSG\",\"4326\"]]'),\n",
       " 'transform': Affine(0.00833333330032682, 0.0, -10.00791660463318,\n",
       "        0.0, -0.008333333299795073, 72.0079165797659)}"
      ]
     },
     "execution_count": 17,
     "metadata": {},
     "output_type": "execute_result"
    }
   ],
   "source": [
    "out_meta"
   ]
  },
  {
   "cell_type": "markdown",
   "id": "bde2a337-f549-4296-a8b3-b00401f8d1a1",
   "metadata": {},
   "source": [
    "#### Save the clipped raster file"
   ]
  },
  {
   "cell_type": "code",
   "execution_count": 18,
   "id": "51221700-2eb4-43f9-a7a2-6016fba21c06",
   "metadata": {},
   "outputs": [],
   "source": [
    "output_file = 'clipped_raster.tif'"
   ]
  },
  {
   "cell_type": "code",
   "execution_count": 19,
   "id": "12648b59-1017-4d1a-a65c-582d48797949",
   "metadata": {},
   "outputs": [],
   "source": [
    "with rasterio.open(output_file, 'w', **out_meta) as dest:\n",
    "    dest.write(out_image)\n",
    "    "
   ]
  }
 ],
 "metadata": {
  "kernelspec": {
   "display_name": "Python 3",
   "language": "python",
   "name": "python3"
  },
  "language_info": {
   "codemirror_mode": {
    "name": "ipython",
    "version": 3
   },
   "file_extension": ".py",
   "mimetype": "text/x-python",
   "name": "python",
   "nbconvert_exporter": "python",
   "pygments_lexer": "ipython3",
   "version": "3.13.7"
  }
 },
 "nbformat": 4,
 "nbformat_minor": 5
}
