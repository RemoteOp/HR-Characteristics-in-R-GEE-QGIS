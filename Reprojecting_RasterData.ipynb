{
 "cells": [
  {
   "cell_type": "markdown",
   "id": "90b8f2b6-548d-4490-899d-cd5eed3e90c1",
   "metadata": {},
   "source": [
    "## Reprojecting Raster Data"
   ]
  },
  {
   "cell_type": "markdown",
   "id": "65eb0828-9f0f-4671-882c-b95bc910cef2",
   "metadata": {},
   "source": [
    "#### Imports"
   ]
  },
  {
   "cell_type": "code",
   "execution_count": 1,
   "id": "5997a7bc-3bce-477a-b001-e3dea12bd5a8",
   "metadata": {},
   "outputs": [],
   "source": [
    "import rasterio\n",
    "from rasterio.warp import calculate_default_transform, reproject"
   ]
  },
  {
   "cell_type": "markdown",
   "id": "67c713a9-5f74-4891-ae69-ca4d29d15d40",
   "metadata": {},
   "source": [
    "#### Calling the input data"
   ]
  },
  {
   "cell_type": "code",
   "execution_count": 2,
   "id": "67ed8347-ac9a-48f5-b0ae-dfae9742b333",
   "metadata": {},
   "outputs": [],
   "source": [
    "raster_file1 = 'germany_population.tif'\n",
    "raster_file2 = 'germany_elevation.tif'"
   ]
  },
  {
   "cell_type": "code",
   "execution_count": 3,
   "id": "e1f65ff4-1260-4454-9ee0-26b472b191a2",
   "metadata": {},
   "outputs": [],
   "source": [
    "with rasterio.open(raster_file1) as src1:\n",
    "    band1 = src1.read(1)\n",
    "    meta1 = src1.meta"
   ]
  },
  {
   "cell_type": "code",
   "execution_count": 4,
   "id": "4da8b413-8b2a-427c-b24f-74ca51049be5",
   "metadata": {},
   "outputs": [],
   "source": [
    "with rasterio.open(raster_file2) as src2:\n",
    "    band2 = src2.read(1)\n",
    "    meta2 = src2.meta"
   ]
  },
  {
   "cell_type": "code",
   "execution_count": 5,
   "id": "b06a10dc-7d44-400c-ad9e-661f110d04eb",
   "metadata": {},
   "outputs": [
    {
     "data": {
      "text/plain": [
       "{'driver': 'GTiff',\n",
       " 'dtype': 'float64',\n",
       " 'nodata': None,\n",
       " 'width': 1101,\n",
       " 'height': 936,\n",
       " 'count': 1,\n",
       " 'crs': CRS.from_wkt('GEOGCS[\"WGS 84\",DATUM[\"WGS_1984\",SPHEROID[\"WGS 84\",6378137,298.257223563,AUTHORITY[\"EPSG\",\"7030\"]],AUTHORITY[\"EPSG\",\"6326\"]],PRIMEM[\"Greenwich\",0,AUTHORITY[\"EPSG\",\"8901\"]],UNIT[\"degree\",0.0174532925199433,AUTHORITY[\"EPSG\",\"9122\"]],AXIS[\"Latitude\",NORTH],AXIS[\"Longitude\",EAST],AUTHORITY[\"EPSG\",\"4326\"]]'),\n",
       " 'transform': Affine(0.00833333330032682, 0.0, 5.850416665888758,\n",
       "        0.0, -0.008333333299795073, 55.066249981282525)}"
      ]
     },
     "execution_count": 5,
     "metadata": {},
     "output_type": "execute_result"
    }
   ],
   "source": [
    "meta1"
   ]
  },
  {
   "cell_type": "code",
   "execution_count": 6,
   "id": "6dcaf4d9-1152-4532-bd9a-e9d61807a243",
   "metadata": {},
   "outputs": [
    {
     "data": {
      "text/plain": [
       "{'driver': 'GTiff',\n",
       " 'dtype': 'int16',\n",
       " 'nodata': None,\n",
       " 'width': 11004,\n",
       " 'height': 9354,\n",
       " 'count': 1,\n",
       " 'crs': CRS.from_wkt('GEOGCS[\"WGS 84\",DATUM[\"WGS_1984\",SPHEROID[\"WGS 84\",6378137,298.257223563,AUTHORITY[\"EPSG\",\"7030\"]],AUTHORITY[\"EPSG\",\"6326\"]],PRIMEM[\"Greenwich\",0,AUTHORITY[\"EPSG\",\"8901\"]],UNIT[\"degree\",0.0174532925199433,AUTHORITY[\"EPSG\",\"9122\"]],AXIS[\"Latitude\",NORTH],AXIS[\"Longitude\",EAST],AUTHORITY[\"EPSG\",\"4326\"]]'),\n",
       " 'transform': Affine(0.0008333333333333301, 0.0, 5.85208333333333,\n",
       "        0.0, -0.0008333333333333301, 55.06541666666667)}"
      ]
     },
     "execution_count": 6,
     "metadata": {},
     "output_type": "execute_result"
    }
   ],
   "source": [
    "meta2"
   ]
  },
  {
   "cell_type": "markdown",
   "id": "f7332e0e-a5e0-40ef-b2c4-53ffe5c33dae",
   "metadata": {},
   "source": [
    "#### Reprojecting to local CRS"
   ]
  },
  {
   "cell_type": "code",
   "execution_count": 7,
   "id": "4ab52234-3cee-4ad7-8c6c-df8be58f1b10",
   "metadata": {},
   "outputs": [],
   "source": [
    "target_crs = 'EPSG:25832'"
   ]
  },
  {
   "cell_type": "code",
   "execution_count": 8,
   "id": "4433a5af-b563-499b-be5f-8ef624bed1b8",
   "metadata": {},
   "outputs": [],
   "source": [
    "def reproject_raster(input_path, output_path, target_crs):\n",
    "    # Open the input raster file\n",
    "    with rasterio.open(input_path) as src:\n",
    "        # Calculate the transform and dimensions for the target CRS\n",
    "        transform, width, height = calculate_default_transform(\n",
    "            src.crs, target_crs, src.width, src.height, *src.bounds)\n",
    "        \n",
    "        # Update metadata with new CRS and dimensions\n",
    "        metadata = src.meta.copy()\n",
    "        metadata.update({\n",
    "            'crs': target_crs,\n",
    "            'transform': transform,\n",
    "            'width': width,\n",
    "            'height': height\n",
    "        })\n",
    "        \n",
    "        # Create the output raster file with the new CRS\n",
    "        with rasterio.open(output_path, 'w', **metadata) as dst:\n",
    "            # Reproject the data\n",
    "            for i in range(1, src.count + 1):  # Loop over each band\n",
    "                reproject(\n",
    "                    source=rasterio.band(src, i),\n",
    "                    destination=rasterio.band(dst, i),\n",
    "                    src_transform=src.transform,\n",
    "                    src_crs=src.crs,\n",
    "                    dst_transform=transform,\n",
    "                    dst_crs=target_crs\n",
    "                )\n",
    "\n"
   ]
  },
  {
   "cell_type": "code",
   "execution_count": 9,
   "id": "dd7a0e2a-68df-4a5c-aef4-b69e4db1bfb5",
   "metadata": {},
   "outputs": [],
   "source": [
    "# Paths to the input and output files\n",
    "reprojected_file1 = 'germany_population_reprojected.tif'\n",
    "reprojected_file2 = 'germany_elevation_reprojected.tif'\n",
    "\n",
    "# Reproject both raster files\n",
    "reproject_raster(raster_file1, reprojected_file1, target_crs)\n",
    "reproject_raster(raster_file2, reprojected_file2, target_crs)"
   ]
  },
  {
   "cell_type": "code",
   "execution_count": 10,
   "id": "1123b75e-24ba-4937-a91e-085ec4d8249f",
   "metadata": {},
   "outputs": [
    {
     "name": "stdout",
     "output_type": "stream",
     "text": [
      "EPSG:25832\n",
      "EPSG:25832\n"
     ]
    }
   ],
   "source": [
    "with rasterio.open(reprojected_file1) as src1:\n",
    "    band1 = src1.read(1)  # Read the data from the first raster\n",
    "    meta1 = src1.meta  # Metadata for the Europe raster\n",
    "\n",
    "with rasterio.open(reprojected_file2) as src2:\n",
    "    band2 = src2.read(1)\n",
    "    meta2 = src2.meta  # Metadata for the Germany raster\n",
    "\n",
    "print(meta1['crs'])\n",
    "print(meta2['crs'])"
   ]
  }
 ],
 "metadata": {
  "kernelspec": {
   "display_name": ".venv",
   "language": "python",
   "name": "python3"
  },
  "language_info": {
   "codemirror_mode": {
    "name": "ipython",
    "version": 3
   },
   "file_extension": ".py",
   "mimetype": "text/x-python",
   "name": "python",
   "nbconvert_exporter": "python",
   "pygments_lexer": "ipython3",
   "version": "3.12.7"
  }
 },
 "nbformat": 4,
 "nbformat_minor": 5
}
